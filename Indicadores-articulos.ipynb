{
 "cells": [
  {
   "cell_type": "markdown",
   "metadata": {
    "slideshow": {
     "slide_type": "slide"
    }
   },
   "source": [
    "# Ayuda slides"
   ]
  },
  {
   "cell_type": "markdown",
   "metadata": {
    "slideshow": {
     "slide_type": "skip"
    }
   },
   "source": [
    "STOP WARNINGS: http://stackoverflow.com/q/26724378/2268280"
   ]
  },
  {
   "cell_type": "code",
   "execution_count": 1,
   "metadata": {
    "collapsed": false,
    "scrolled": true,
    "slideshow": {
     "slide_type": "slide"
    }
   },
   "outputs": [
    {
     "name": "stdout",
     "output_type": "stream",
     "text": [
      "Copy the next code into a first Raw NBconvert Cell to avoid display the commands\n",
      "<style type=\"text/css\">\n",
      ".input, .output_prompt {\n",
      "display:none !important;\n",
      "}\n",
      "</style>\n",
      "\n"
     ]
    }
   ],
   "source": [
    "print '''Copy the next code into a first Raw NBconvert Cell to avoid display the commands\n",
    "<style type=\"text/css\">\n",
    ".input, .output_prompt {\n",
    "display:none !important;\n",
    "}\n",
    "</style>\n",
    "'''"
   ]
  },
  {
   "cell_type": "markdown",
   "metadata": {},
   "source": [
    "## Configuraciones generales"
   ]
  },
  {
   "cell_type": "code",
   "execution_count": 2,
   "metadata": {
    "collapsed": false
   },
   "outputs": [
    {
     "name": "stdout",
     "output_type": "stream",
     "text": [
      "Populating the interactive namespace from numpy and matplotlib\n"
     ]
    }
   ],
   "source": [
    "%pylab inline\n",
    "pylab.rcParams['figure.figsize'] = (10, 6)\n",
    "matplotlib.rcParams.update({'font.size': 15})\n",
    "#identificadores de Grupo:\n",
    "s={'GFIF':'g-','GES':'r:','GMC':'c--','GOF':'m-.','MS':'y-','GFAM':'k:','FACOM':'b-'}"
   ]
  },
  {
   "cell_type": "code",
   "execution_count": 3,
   "metadata": {
    "collapsed": true
   },
   "outputs": [],
   "source": [
    "import pandas as pd\n",
    "import numpy as np\n",
    "import datetime\n",
    "import re\n",
    "\n",
    "pd.set_option('display.max_rows', 500)\n",
    "pd.set_option('display.max_columns', 500)\n",
    "pd.set_option('display.max_colwidth',500)\n",
    "def read_google_cvs(gss_url=\"http://spreadsheets.google.com\",\\\n",
    "    gss_format=\"csv\",\\\n",
    "    gss_key=\"0AuLa_xuSIEvxdERYSGVQWDBTX1NCN19QMXVpb0lhWXc\",\\\n",
    "    gss_sheet=0,\\\n",
    "    gss_query=\"select B,D,E,F,I where (H contains 'GFIF') order by D desc\",\\\n",
    "    gss_keep_default_na=False\n",
    "    ):\n",
    "    import urllib\n",
    "    \"\"\"\n",
    "    read a google spreadsheet in cvs format and return a pandas DataFrame object.\n",
    "       ....\n",
    "       gss_keep_default_na: (False) Blank values are filled with NaN\n",
    "    \"\"\"\n",
    "    issn_url=\"%s/tq?tqx=out:%s&tq=%s&key=%s&gid=%s\" %(gss_url,\\\n",
    "                                           gss_format,\\\n",
    "                                           gss_query,\\\n",
    "                                           gss_key,\\\n",
    "                                           str(gss_sheet))\n",
    "\n",
    "    gfile=urllib.urlopen(issn_url)\n",
    "    return pd.read_csv(gfile,keep_default_na=gss_keep_default_na)\n",
    "\n",
    "def plainstr(stra):\n",
    "    return stra.replace('á','a').replace('é','e').replace('í','i').\\\n",
    "                replace('ó','o').replace('ú','u').replace('ñ','n')"
   ]
  },
  {
   "cell_type": "markdown",
   "metadata": {},
   "source": [
    "Cargue datos: Para actualizar use \n",
    "  \n",
    "  `Offline=False`"
   ]
  },
  {
   "cell_type": "code",
   "execution_count": 4,
   "metadata": {
    "collapsed": false,
    "slideshow": {
     "slide_type": "skip"
    }
   },
   "outputs": [],
   "source": [
    "Offline=True\n",
    "if not Offline:\n",
    "    df=pd.read_csv('https://raw.githubusercontent.com/restrepo/gssis/master/utilities/newcitations.csv')\n",
    "    df.to_csv('newcitations.csv',index=False)\n",
    "    pc=read_google_cvs(gss_key='1yQXdQdzsX9zBeui52bMcnN-JMt87ofHDjA58kwGJsdI',gss_query=\"select *\")\n",
    "    pc.to_csv('pd.csv',index=False)\n",
    "    dfd=read_google_cvs(gss_key=\"0AuLa_xuSIEvxdERYSGVQWDBTX1NCN19QMXVpb0lhWXc\",gss_query=\"select *\",gss_sheet=2)\n",
    "    dfd['PROGRAMA']='Doctorado'\n",
    "    dfm=read_google_cvs(gss_key=\"0AuLa_xuSIEvxdERYSGVQWDBTX1NCN19QMXVpb0lhWXc\",gss_query=\"select *\",gss_sheet=1)\n",
    "    dfm['PROGRAMA']='Maestría'\n",
    "    dfe=dfd.append(dfm)\n",
    "    dfe[['ESTUDIANTE','ASESOR','Estado','Fecha de ingreso','Fecha de graduación','GRUPO','PROGRAMA']].to_csv('dfe.csv',index=False)\n",
    "\n",
    "else:\n",
    "    df=pd.read_csv('newcitations.csv')\n",
    "    pc=pd.read_csv('pd.csv')\n",
    "    pc=pc.fillna('')\n",
    "    dfe=pd.read_csv('dfe.csv')\n",
    "    dfe=dfe.fillna('')"
   ]
  },
  {
   "cell_type": "markdown",
   "metadata": {
    "slideshow": {
     "slide_type": "fragment"
    }
   },
   "source": [
    "'b' to hide presentation\n",
    "\n",
    "Links:\n",
    "* http://stackoverflow.com/questions/20441848/how-do-i-separate-slides-when-exporting-an-ipython-notebook-to-reveal-js    \n",
    "* http://www.slideviper.oquanta.info/tutorial/slideshow_tutorial_slides.html#/7  \n",
    "* https://seqqc.wordpress.com/2015/02/22/make-slides-with-ipython-notebook/\n",
    "* http://hannes-brt.github.io/blog/2013/08/11/ipython-slideshows-will-change-the-way-you-work/\n",
    "\n",
    "The commands in the final Cell gives the separation of slides and arrows:"
   ]
  },
  {
   "cell_type": "code",
   "execution_count": 5,
   "metadata": {
    "collapsed": false,
    "slideshow": {
     "slide_type": "subslide"
    }
   },
   "outputs": [],
   "source": [
    "%%bash\n",
    "#ipython nbconvert Indicadores-articulos.ipynb --to slides --reveal-prefix \"http://cdn.jsdelivr.net/reveal.js/2.6.2\" && cp Indicadores-articulos.slides.html /var/www/downloads\n",
    "#git commit -am \"Slides update\"\n",
    "#git push origin master"
   ]
  },
  {
   "cell_type": "markdown",
   "metadata": {
    "slideshow": {
     "slide_type": "slide"
    }
   },
   "source": [
    "The resulting slides are here:\n",
    "\n",
    "http://gfif.udea.edu.co/downloads/Indicadores-articulos.slides.html#/\n",
    "\n",
    "or\n",
    "\n",
    "* http://htmlpreview.github.io/?https://github.com/restrepo/gssis/blob/master/pandas/Indicadores-articulos.slides.html#/\n",
    "* http://htmlpreview.github.io/?https://github.com/restrepo/gssis/blob/master/pandas/Indicadores-articulos-simple.slides.html#/"
   ]
  },
  {
   "cell_type": "markdown",
   "metadata": {
    "slideshow": {
     "slide_type": "slide"
    }
   },
   "source": [
    "<h1>Indicadores Instituto de Física</h1>\n",
    "<h3>Diego Restrepo</h3>\n",
    "\n",
    "\n",
    "<h3>Adevertencia:</h3>\n",
    "El análisis de datos se ha realizado con procesos automáticos propensos a errores de programación."
   ]
  },
  {
   "cell_type": "markdown",
   "metadata": {
    "slideshow": {
     "slide_type": "skip"
    }
   },
   "source": [
    "http://stackoverflow.com/a/17231361"
   ]
  },
  {
   "cell_type": "markdown",
   "metadata": {
    "slideshow": {
     "slide_type": "slide"
    }
   },
   "source": [
    "<h2 id=\"Articulos\">Artículos</h2>\n",
    "###Metodologia\n",
    "Desde el perfil de [Google Scholar](https://scholar.google.com/citations?sortby=pubdate&hl=en&user=mxSOjTYAAAAJ&view_op=list_works) para el Instituto, se exportan todos los artículos en formato cvs.\n",
    "\n",
    "Con el programa `cvsreader_udea.py` en la carpeta `utilities` del repositorio  de GitHub [`gssis`](https://github.com/restrepo/gssis) se añade la siguiente información:  "
   ]
  },
  {
   "cell_type": "markdown",
   "metadata": {
    "slideshow": {
     "slide_type": "fragment"
    }
   },
   "source": [
    "* El [DOI](http://search.crossref.org), usando el título y el apellido del primer autor de la publicación"
   ]
  },
  {
   "cell_type": "markdown",
   "metadata": {
    "slideshow": {
     "slide_type": "fragment"
    }
   },
   "source": [
    "* Con del DOI se pueden verificar todos los metadatos. En particular el nombre exacto de la revista. [Ejemplo](http://api.crossref.org/works/10.1103/PhysRevD.93.015012) "
   ]
  },
  {
   "cell_type": "markdown",
   "metadata": {
    "slideshow": {
     "slide_type": "fragment"
    }
   },
   "source": [
    "* Con el nombre exacto de la revista se obtiene la clasificación de Colciencias y su ISSN asociado desde la versión en [google spreadsheet](https://docs.google.com/spreadsheets/d/1umgapW8KOIPqmu_hyjon3n2SXbnbDlmnRnXzjUHcXHE/edit?usp=drive_web) del arhivo en excel del Publindex de Colciencias para revistas homologadas. (Se carga el csv desde el código)"
   ]
  },
  {
   "cell_type": "markdown",
   "metadata": {
    "slideshow": {
     "slide_type": "fragment"
    }
   },
   "source": [
    "* Con el ISSN se obtiene el factor de impacto con: [búsqueda de Google](https://goo.gl/JMHmhS)"
   ]
  },
  {
   "cell_type": "markdown",
   "metadata": {
    "slideshow": {
     "slide_type": "subslide"
    }
   },
   "source": [
    "* [La página web con el perfil de Google Scholar](https://scholar.google.com/citations?sortby=pubdate&hl=en&user=mxSOjTYAAAAJ&view_op=list_works) muestra hasta 1000 entradas en una tabla de tres columas con la información del artículo, el número de citas y el año de publicación. Si la correspondiente tabla se copia directamente en una hoja cálculo de Google, luego puede ser cargada como un archivo `csv` desde `pandas`. El título del artículo en la base de datos enriquecida de artículos puede ser contrastada con la columna de información de la hoja de cáculo de citaciones para asignarle el número de citas correspondiente. De ser necesario se puede recurrir a otra información de artículo como el por ejemplo: el volumen de la revista en que fue publicado"
   ]
  },
  {
   "cell_type": "markdown",
   "metadata": {
    "slideshow": {
     "slide_type": "fragment"
    }
   },
   "source": [
    "Finalmente el programa extrae el primer autor de la UdeA de la lista de autores y le asocia el Grupo de Investigación correspondiente.\n",
    "\n",
    "El resultado final esta en el [repositorio de GitHub](https://github.com/restrepo/gssis/blob/master/utilities/newcitations.csv)"
   ]
  },
  {
   "cell_type": "markdown",
   "metadata": {
    "slideshow": {
     "slide_type": "slide"
    }
   },
   "source": [
    "##  Preparación de datos"
   ]
  },
  {
   "cell_type": "markdown",
   "metadata": {
    "slideshow": {
     "slide_type": "slide"
    }
   },
   "source": [
    "### Compruebe base de datos de artículos\n",
    "Desde el [repositorio de GitHub](https://github.com/restrepo/gssis/blob/master/utilities/newcitations.csv)"
   ]
  },
  {
   "cell_type": "code",
   "execution_count": 6,
   "metadata": {
    "collapsed": false,
    "slideshow": {
     "slide_type": "fragment"
    }
   },
   "outputs": [
    {
     "data": {
      "text/plain": [
       "Index([u'Year', u'Type', u'Authors', u'Publication', u'Volume', u'Pages',\n",
       "       u'ISSN', u'Title', u'Impreso', u'PDF', u'Group', u'DOI', u'Type II',\n",
       "       u'Proyect ID', u'Institution Authors', u'Colciencias Clasification',\n",
       "       u'Impact Factor', u'Proyecto', u'NPages'],\n",
       "      dtype='object')"
      ]
     },
     "execution_count": 6,
     "metadata": {},
     "output_type": "execute_result"
    }
   ],
   "source": [
    "df.columns"
   ]
  },
  {
   "cell_type": "markdown",
   "metadata": {
    "collapsed": false,
    "slideshow": {
     "slide_type": "skip"
    }
   },
   "source": [
    "### Arregle manualmente\n",
    "Artículos con muchos autores"
   ]
  },
  {
   "cell_type": "code",
   "execution_count": 7,
   "metadata": {
    "collapsed": false,
    "slideshow": {
     "slide_type": "skip"
    }
   },
   "outputs": [
    {
     "name": "stderr",
     "output_type": "stream",
     "text": [
      "/usr/local/lib/python2.7/dist-packages/IPython/kernel/__main__.py:5: SettingWithCopyWarning: \n",
      "A value is trying to be set on a copy of a slice from a DataFrame\n",
      "\n",
      "See the caveats in the documentation: http://pandas.pydata.org/pandas-docs/stable/indexing.html#indexing-view-versus-copy\n",
      "/usr/local/lib/python2.7/dist-packages/IPython/kernel/__main__.py:6: SettingWithCopyWarning: \n",
      "A value is trying to be set on a copy of a slice from a DataFrame\n",
      "\n",
      "See the caveats in the documentation: http://pandas.pydata.org/pandas-docs/stable/indexing.html#indexing-view-versus-copy\n"
     ]
    }
   ],
   "source": [
    "df.Group=df.Group.fillna('Unknown')\n",
    "jdr=df[df.Group=='Unknown']\n",
    "jdri=jdr[np.logical_or(jdr.ISSN=='1126-6708',jdr.ISSN=='1550-7998')].index\n",
    "for i in jdri:\n",
    "    df.Group[i]='GFIF: Grupo de Fenomenología de Interacciones Fundamentales'\n",
    "    df['Institution Authors'][i]='José David Ruíz Álvarez'"
   ]
  },
  {
   "cell_type": "code",
   "execution_count": 8,
   "metadata": {
    "collapsed": false,
    "slideshow": {
     "slide_type": "skip"
    }
   },
   "outputs": [
    {
     "name": "stderr",
     "output_type": "stream",
     "text": [
      "/usr/local/lib/python2.7/dist-packages/IPython/kernel/__main__.py:2: SettingWithCopyWarning: \n",
      "A value is trying to be set on a copy of a slice from a DataFrame\n",
      "\n",
      "See the caveats in the documentation: http://pandas.pydata.org/pandas-docs/stable/indexing.html#indexing-view-versus-copy\n",
      "  from ipykernel import kernelapp as app\n",
      "/usr/local/lib/python2.7/dist-packages/IPython/kernel/__main__.py:3: SettingWithCopyWarning: \n",
      "A value is trying to be set on a copy of a slice from a DataFrame\n",
      "\n",
      "See the caveats in the documentation: http://pandas.pydata.org/pandas-docs/stable/indexing.html#indexing-view-versus-copy\n",
      "  app.launch_new_instance()\n",
      "/usr/local/lib/python2.7/dist-packages/IPython/kernel/__main__.py:4: SettingWithCopyWarning: \n",
      "A value is trying to be set on a copy of a slice from a DataFrame\n",
      "\n",
      "See the caveats in the documentation: http://pandas.pydata.org/pandas-docs/stable/indexing.html#indexing-view-versus-copy\n"
     ]
    }
   ],
   "source": [
    "i=df[df.Publication.str.lower().str.contains('nature')].index[0]\n",
    "df.Group[i]='GFAM: Grupo de Física Atómica y Molecular'\n",
    "df['Institution Authors'][i]='Sanz Vicario José Luis'\n",
    "df['Impact Factor'][i]='41,456'"
   ]
  },
  {
   "cell_type": "markdown",
   "metadata": {
    "slideshow": {
     "slide_type": "slide"
    }
   },
   "source": [
    "###Compatibilidad con la carpeta de Indicadores de Google Spread Sheet"
   ]
  },
  {
   "cell_type": "code",
   "execution_count": 9,
   "metadata": {
    "collapsed": true,
    "slideshow": {
     "slide_type": "fragment"
    }
   },
   "outputs": [],
   "source": [
    "df['Año']=df.Year\n",
    "df['Tipo']=df.Type\n",
    "df['Autor(es)']=df.Authors\n",
    "df['Artículo']=df.Title\n",
    "df['Vol.']=df.Volume\n",
    "df['pág.']=df.Pages\n",
    "df['Revista']=df.Publication\n",
    "df['Grupo']=df.Group\n",
    "df['Clasificación Colciencias']=df['Colciencias Clasification']\n",
    "df['Factor de Impacto']=df['Impact Factor']"
   ]
  },
  {
   "cell_type": "markdown",
   "metadata": {
    "slideshow": {
     "slide_type": "slide"
    }
   },
   "source": [
    "### Primer autor UdeA"
   ]
  },
  {
   "cell_type": "code",
   "execution_count": 10,
   "metadata": {
    "collapsed": true,
    "slideshow": {
     "slide_type": "fragment"
    }
   },
   "outputs": [],
   "source": [
    "df['First_UdeA_Author']=df['Institution Authors'].fillna('NN')\\\n",
    ".str.replace('Mora Ramos Miguel; ','').str.replace(';.*','')"
   ]
  },
  {
   "cell_type": "markdown",
   "metadata": {
    "slideshow": {
     "slide_type": "slide"
    }
   },
   "source": [
    "### Área"
   ]
  },
  {
   "cell_type": "code",
   "execution_count": 11,
   "metadata": {
    "collapsed": false,
    "slideshow": {
     "slide_type": "fragment"
    }
   },
   "outputs": [
    {
     "name": "stderr",
     "output_type": "stream",
     "text": [
      "/usr/local/lib/python2.7/dist-packages/IPython/kernel/__main__.py:4: SettingWithCopyWarning: \n",
      "A value is trying to be set on a copy of a slice from a DataFrame\n",
      "\n",
      "See the caveats in the documentation: http://pandas.pydata.org/pandas-docs/stable/indexing.html#indexing-view-versus-copy\n",
      "/usr/local/lib/python2.7/dist-packages/IPython/kernel/__main__.py:8: SettingWithCopyWarning: \n",
      "A value is trying to be set on a copy of a slice from a DataFrame\n",
      "\n",
      "See the caveats in the documentation: http://pandas.pydata.org/pandas-docs/stable/indexing.html#indexing-view-versus-copy\n",
      "/usr/local/lib/python2.7/dist-packages/IPython/kernel/__main__.py:13: SettingWithCopyWarning: \n",
      "A value is trying to be set on a copy of a slice from a DataFrame\n",
      "\n",
      "See the caveats in the documentation: http://pandas.pydata.org/pandas-docs/stable/indexing.html#indexing-view-versus-copy\n"
     ]
    }
   ],
   "source": [
    "df['Area']='Desconocida'\n",
    "for G in ['GMC','FACOM','GFAM','MS','GFIF','FN']:\n",
    "    for i in df[df.Grupo.str.contains(G)].index:\n",
    "        df.Area[i]='Teórica'\n",
    "\n",
    "for G in ['GICM','GES','GOF','Biofísica','FIR']:\n",
    "    for i in df[df.Grupo.str.contains(G)].index:\n",
    "        df.Area[i]='Experimental'\n",
    "        \n",
    "#manual fix\n",
    "for TGES in ['Morales Aramburo Álvaro','Osorio Guillén Jorge Mario','Reyes Gómez Ernesto Amador']:\n",
    "    for i in df[df.First_UdeA_Author.str.contains(TGES)].index:\n",
    "        df.Area[i]='Teórica'        "
   ]
  },
  {
   "cell_type": "markdown",
   "metadata": {
    "slideshow": {
     "slide_type": "slide"
    }
   },
   "source": [
    "### Incluyendo citaciones..."
   ]
  },
  {
   "cell_type": "markdown",
   "metadata": {
    "slideshow": {
     "slide_type": "skip"
    }
   },
   "source": [
    "To include in official code cvsreader_udea.py"
   ]
  },
  {
   "cell_type": "code",
   "execution_count": 12,
   "metadata": {
    "collapsed": false,
    "slideshow": {
     "slide_type": "fragment"
    }
   },
   "outputs": [
    {
     "name": "stderr",
     "output_type": "stream",
     "text": [
      "/usr/local/lib/python2.7/dist-packages/IPython/kernel/__main__.py:12: SettingWithCopyWarning: \n",
      "A value is trying to be set on a copy of a slice from a DataFrame\n",
      "\n",
      "See the caveats in the documentation: http://pandas.pydata.org/pandas-docs/stable/indexing.html#indexing-view-versus-copy\n"
     ]
    }
   ],
   "source": [
    "df['Cites']=0\n",
    "df['Simple']=df.Title.str.replace(r\"[^a-zA-Z0-9 ]\", \" \").str.lower().str.replace('\\s+','')\n",
    "pc['Simple']=pc.Article.str.replace(r\"[^a-zA-Z0-9 ]\", \" \").str.lower().str.replace('\\s+','')\n",
    "for i in range(df.shape[0]):\n",
    "    mt=pc[pc.Simple.str.match(df.Simple[i])]\n",
    "    if len(mt)>0:\n",
    "        if len(mt)>1: #multiple matches. Refine search with, e.g, volume\n",
    "            mtv=mt[mt.Simple.str.contains(str(df.Volume[i]))]\n",
    "            if len(mtv)>0:\n",
    "                mt=mtv\n",
    "        \n",
    "        df['Cites'][i]=mt.Cites.replace('*','').replace('','0').astype(int).max()"
   ]
  },
  {
   "cell_type": "markdown",
   "metadata": {
    "slideshow": {
     "slide_type": "slide"
    }
   },
   "source": [
    "Expected 12994 (Feb. 2016)"
   ]
  },
  {
   "cell_type": "code",
   "execution_count": 13,
   "metadata": {
    "collapsed": false,
    "slideshow": {
     "slide_type": "fragment"
    }
   },
   "outputs": [
    {
     "data": {
      "text/plain": [
       "12847"
      ]
     },
     "execution_count": 13,
     "metadata": {},
     "output_type": "execute_result"
    }
   ],
   "source": [
    "df.Cites.sum()"
   ]
  },
  {
   "cell_type": "markdown",
   "metadata": {
    "slideshow": {
     "slide_type": "slide"
    }
   },
   "source": [
    "### Filtramos las publicadas\n",
    "Las que tienen ISSN o el DOI.\n",
    "\n",
    "Se muestran algunos resultados..."
   ]
  },
  {
   "cell_type": "code",
   "execution_count": 14,
   "metadata": {
    "collapsed": false,
    "scrolled": true,
    "slideshow": {
     "slide_type": "fragment"
    }
   },
   "outputs": [
    {
     "data": {
      "text/html": [
       "<div>\n",
       "<table border=\"1\" class=\"dataframe\">\n",
       "  <thead>\n",
       "    <tr style=\"text-align: right;\">\n",
       "      <th></th>\n",
       "      <th>Año</th>\n",
       "      <th>Autor(es)</th>\n",
       "      <th>Artículo</th>\n",
       "      <th>Vol.</th>\n",
       "      <th>pág.</th>\n",
       "      <th>ISSN</th>\n",
       "      <th>Revista</th>\n",
       "      <th>Grupo</th>\n",
       "      <th>DOI</th>\n",
       "      <th>Clasificación Colciencias</th>\n",
       "      <th>Factor de Impacto</th>\n",
       "      <th>First_UdeA_Author</th>\n",
       "    </tr>\n",
       "  </thead>\n",
       "  <tbody>\n",
       "    <tr>\n",
       "      <th>975</th>\n",
       "      <td>2015</td>\n",
       "      <td>Hollyhead, Katherine; Bastian, Nate; Adamo, Angela; Silva-Villa, Esteban; Dale, Jim; Ryon, JE; Gazak, Zack;</td>\n",
       "      <td>Studying the YMC population of M83: how long clusters remain embedded, their interaction with the ISM and implications for GC formation theories</td>\n",
       "      <td>449</td>\n",
       "      <td>1106</td>\n",
       "      <td>0035-8711</td>\n",
       "      <td>Monthly Notices of the Royal Astronomical Society</td>\n",
       "      <td>FACOM: Física y Astrofísica Computacional</td>\n",
       "      <td>10.1093/mnras/stv331</td>\n",
       "      <td>A1</td>\n",
       "      <td>5,521</td>\n",
       "      <td>Silva Villa Esteban</td>\n",
       "    </tr>\n",
       "    <tr>\n",
       "      <th>976</th>\n",
       "      <td>2015</td>\n",
       "      <td>Adamo, Angela; Kruijssen, JMD; Bastian, Nate; Silva-Villa, Esteban; Ryon, Jenna;</td>\n",
       "      <td>Probing the role of the galactic environment in the formation of stellar clusters, using M83 as a test bench</td>\n",
       "      <td>452</td>\n",
       "      <td>246</td>\n",
       "      <td>0035-8711</td>\n",
       "      <td>Monthly Notices of the Royal Astronomical Society</td>\n",
       "      <td>FACOM: Física y Astrofísica Computacional</td>\n",
       "      <td>10.1093/mnras/stv1203</td>\n",
       "      <td>A1</td>\n",
       "      <td>5,521</td>\n",
       "      <td>Silva Villa Esteban</td>\n",
       "    </tr>\n",
       "    <tr>\n",
       "      <th>977</th>\n",
       "      <td>2014</td>\n",
       "      <td>Bastian, N; Adamo, Angela; Schirmer, M; Hollyhead, K; Beletsky, Y; Carraro, G; Davies, B; Gieles, M; Silva-Villa, E;</td>\n",
       "      <td>The effect of spatial resolution on optical and near-IR studies of stellar clusters: implications for the origin of the red excess</td>\n",
       "      <td>444</td>\n",
       "      <td>3829</td>\n",
       "      <td>0035-8711</td>\n",
       "      <td>Monthly Notices of the Royal Astronomical Society</td>\n",
       "      <td>FACOM: Física y Astrofísica Computacional</td>\n",
       "      <td>10.1093/mnras/stu1695</td>\n",
       "      <td>A1</td>\n",
       "      <td>5,521</td>\n",
       "      <td>Silva Villa Esteban</td>\n",
       "    </tr>\n",
       "    <tr>\n",
       "      <th>978</th>\n",
       "      <td>2015</td>\n",
       "      <td>Niederhofer, Florian; Hilker, Michael; Bastian, Nate; Silva-Villa, Esteban;</td>\n",
       "      <td>No evidence for significant age spreads in young massive LMC clusters</td>\n",
       "      <td>575</td>\n",
       "      <td>62</td>\n",
       "      <td>0004-6361</td>\n",
       "      <td>Astronomy &amp; Astrophysics</td>\n",
       "      <td>FACOM: Física y Astrofísica Computacional</td>\n",
       "      <td>10.1051/0004-6361/201424455</td>\n",
       "      <td>A1</td>\n",
       "      <td>4,378</td>\n",
       "      <td>Silva Villa Esteban</td>\n",
       "    </tr>\n",
       "    <tr>\n",
       "      <th>979</th>\n",
       "      <td>2014</td>\n",
       "      <td>Ceballos, Jorge A; Giraldo, Marco A; Cossio, Pilar;</td>\n",
       "      <td>Effects of a disulfide bridge prior to amyloid formation of the ABRI peptide</td>\n",
       "      <td>4</td>\n",
       "      <td>36923</td>\n",
       "      <td>0000-0000</td>\n",
       "      <td>RSC Advances</td>\n",
       "      <td>Biofísica</td>\n",
       "      <td>10.1039/C4RA06034B</td>\n",
       "      <td>00</td>\n",
       "      <td>-1,0</td>\n",
       "      <td>Giraldo Cadavid Marco A.</td>\n",
       "    </tr>\n",
       "  </tbody>\n",
       "</table>\n",
       "</div>"
      ],
      "text/plain": [
       "      Año  \\\n",
       "975  2015   \n",
       "976  2015   \n",
       "977  2014   \n",
       "978  2015   \n",
       "979  2014   \n",
       "\n",
       "                                                                                                                 Autor(es)  \\\n",
       "975           Hollyhead, Katherine; Bastian, Nate; Adamo, Angela; Silva-Villa, Esteban; Dale, Jim; Ryon, JE; Gazak, Zack;    \n",
       "976                                      Adamo, Angela; Kruijssen, JMD; Bastian, Nate; Silva-Villa, Esteban; Ryon, Jenna;    \n",
       "977  Bastian, N; Adamo, Angela; Schirmer, M; Hollyhead, K; Beletsky, Y; Carraro, G; Davies, B; Gieles, M; Silva-Villa, E;    \n",
       "978                                           Niederhofer, Florian; Hilker, Michael; Bastian, Nate; Silva-Villa, Esteban;    \n",
       "979                                                                   Ceballos, Jorge A; Giraldo, Marco A; Cossio, Pilar;    \n",
       "\n",
       "                                                                                                                                             Artículo  \\\n",
       "975  Studying the YMC population of M83: how long clusters remain embedded, their interaction with the ISM and implications for GC formation theories   \n",
       "976                                      Probing the role of the galactic environment in the formation of stellar clusters, using M83 as a test bench   \n",
       "977                The effect of spatial resolution on optical and near-IR studies of stellar clusters: implications for the origin of the red excess   \n",
       "978                                                                             No evidence for significant age spreads in young massive LMC clusters   \n",
       "979                                                                      Effects of a disulfide bridge prior to amyloid formation of the ABRI peptide   \n",
       "\n",
       "     Vol.   pág.       ISSN  \\\n",
       "975   449   1106  0035-8711   \n",
       "976   452    246  0035-8711   \n",
       "977   444   3829  0035-8711   \n",
       "978   575     62  0004-6361   \n",
       "979     4  36923  0000-0000   \n",
       "\n",
       "                                               Revista  \\\n",
       "975  Monthly Notices of the Royal Astronomical Society   \n",
       "976  Monthly Notices of the Royal Astronomical Society   \n",
       "977  Monthly Notices of the Royal Astronomical Society   \n",
       "978                           Astronomy & Astrophysics   \n",
       "979                                       RSC Advances   \n",
       "\n",
       "                                         Grupo                          DOI  \\\n",
       "975  FACOM: Física y Astrofísica Computacional         10.1093/mnras/stv331   \n",
       "976  FACOM: Física y Astrofísica Computacional        10.1093/mnras/stv1203   \n",
       "977  FACOM: Física y Astrofísica Computacional        10.1093/mnras/stu1695   \n",
       "978  FACOM: Física y Astrofísica Computacional  10.1051/0004-6361/201424455   \n",
       "979                                  Biofísica           10.1039/C4RA06034B   \n",
       "\n",
       "    Clasificación Colciencias Factor de Impacto         First_UdeA_Author  \n",
       "975                        A1             5,521       Silva Villa Esteban  \n",
       "976                        A1             5,521       Silva Villa Esteban  \n",
       "977                        A1             5,521       Silva Villa Esteban  \n",
       "978                        A1             4,378       Silva Villa Esteban  \n",
       "979                        00              -1,0  Giraldo Cadavid Marco A.  "
      ]
     },
     "execution_count": 14,
     "metadata": {},
     "output_type": "execute_result"
    }
   ],
   "source": [
    "publicadas=df[~np.logical_and(df['ISSN']=='0000-0000',df['DOI']=='Not DOI')]\n",
    "publicadas=publicadas.reset_index(drop=True)\n",
    "publicadas=publicadas.replace('','Desconocido')\n",
    "##publicadas['First_UdeA_Author']=publicadas['Institution Authors'].fillna('NN')\\\n",
    "##.str.replace('Mora Ramos Miguel; ','').str.replace(';.*','')\n",
    "\n",
    "#Ejemplo visualización\n",
    "#publicadas[['Año','Autor(es)','Artículo','Vol.','pág.','ISSN','Revista','Grupo','DOI','Clasificación Colciencias','Factor de Impacto','First_UdeA_Author']][publicadas['DOI']!='Not DOI'][-5:]\n",
    "publicadas[['Año','Autor(es)','Artículo','Vol.','pág.','ISSN','Revista','Grupo','DOI','Clasificación Colciencias','Factor de Impacto','First_UdeA_Author']][publicadas['DOI']!='Not DOI'][-5:]"
   ]
  },
  {
   "cell_type": "code",
   "execution_count": 15,
   "metadata": {
    "collapsed": true,
    "slideshow": {
     "slide_type": "skip"
    }
   },
   "outputs": [],
   "source": [
    "publicadas['Factor de Impacto']=publicadas['Factor de Impacto'].replace('Desconocido',-1)\n",
    "publicadas['Factor de Impacto']=publicadas['Factor de Impacto'].str.replace(',','.').astype(float)\n",
    "publicadas['Grupo']=publicadas['Grupo'].fillna('Unknown')"
   ]
  },
  {
   "cell_type": "markdown",
   "metadata": {
    "slideshow": {
     "slide_type": "slide"
    }
   },
   "source": [
    "### Publicadas últimos 5 años\n",
    "\n",
    "Desde 2011"
   ]
  },
  {
   "cell_type": "code",
   "execution_count": 16,
   "metadata": {
    "collapsed": false,
    "slideshow": {
     "slide_type": "skip"
    }
   },
   "outputs": [
    {
     "data": {
      "text/plain": [
       "2011"
      ]
     },
     "execution_count": 16,
     "metadata": {},
     "output_type": "execute_result"
    }
   ],
   "source": [
    "datetime.datetime.now().year-5"
   ]
  },
  {
   "cell_type": "code",
   "execution_count": 17,
   "metadata": {
    "collapsed": false,
    "slideshow": {
     "slide_type": "fragment"
    }
   },
   "outputs": [],
   "source": [
    "publicadas5=publicadas[publicadas['Año']>datetime.datetime.now().year-6]"
   ]
  },
  {
   "cell_type": "markdown",
   "metadata": {
    "slideshow": {
     "slide_type": "slide"
    }
   },
   "source": [
    "### Datos a analizar del TOTAL en Google Scholar:"
   ]
  },
  {
   "cell_type": "code",
   "execution_count": 18,
   "metadata": {
    "collapsed": false,
    "slideshow": {
     "slide_type": "fragment"
    }
   },
   "outputs": [
    {
     "data": {
      "text/html": [
       "<div>\n",
       "<table border=\"1\" class=\"dataframe\">\n",
       "  <thead>\n",
       "    <tr style=\"text-align: right;\">\n",
       "      <th></th>\n",
       "      <th>Publicadas</th>\n",
       "      <th>Publicadas últimos 5 años</th>\n",
       "      <th>TOTAL</th>\n",
       "    </tr>\n",
       "  </thead>\n",
       "  <tbody>\n",
       "    <tr>\n",
       "      <th>0</th>\n",
       "      <td>980</td>\n",
       "      <td>344</td>\n",
       "      <td>1032</td>\n",
       "    </tr>\n",
       "  </tbody>\n",
       "</table>\n",
       "</div>"
      ],
      "text/plain": [
       "   Publicadas  Publicadas últimos 5 años  TOTAL\n",
       "0         980                        344   1032"
      ]
     },
     "execution_count": 18,
     "metadata": {},
     "output_type": "execute_result"
    }
   ],
   "source": [
    "dfp=pd.DataFrame()\n",
    "dfp.append({'TOTAL':df.shape[0],'Publicadas':publicadas.shape[0],\\\n",
    "            'Publicadas últimos 5 años':publicadas5.shape[0]},ignore_index=True)"
   ]
  },
  {
   "cell_type": "markdown",
   "metadata": {
    "slideshow": {
     "slide_type": "slide"
    }
   },
   "source": [
    "## Preparando la tabla de datos principal\n",
    "Similar a la [compartida por correo](https://goo.gl/z9nley) que fue obtenida con conteo manual de artículos."
   ]
  },
  {
   "cell_type": "markdown",
   "metadata": {
    "slideshow": {
     "slide_type": "slide"
    }
   },
   "source": [
    "### Estudiantes"
   ]
  },
  {
   "cell_type": "code",
   "execution_count": 19,
   "metadata": {
    "collapsed": false,
    "slideshow": {
     "slide_type": "fragment"
    }
   },
   "outputs": [],
   "source": [
    "config_inf={'DEBUG':False} #Development mode\n",
    "config_inf['Years']=range(1995,2016)"
   ]
  },
  {
   "cell_type": "markdown",
   "metadata": {
    "slideshow": {
     "slide_type": "subslide"
    }
   },
   "source": [
    "Convertir YYYY-S a YYYY, e.g 2015-1 a 2015"
   ]
  },
  {
   "cell_type": "code",
   "execution_count": 20,
   "metadata": {
    "collapsed": false,
    "slideshow": {
     "slide_type": "fragment"
    }
   },
   "outputs": [],
   "source": [
    "dfe['Año de ingreso']=dfe['Fecha de ingreso'].replace('','0').replace('null','0').str.replace('-1','').str.replace('-2','').astype('int')\n",
    "dfe['Año de graduación']=dfe['Fecha de graduación'].replace('','0').replace('null','0').str.replace('-1','').str.replace('-2','').astype('int')#.values\n",
    "#dfe['Año de graduación'].values\n",
    "dfei=dfe[dfe['Año de ingreso']>=config_inf['Years'][0]].reset_index(drop=True)\n",
    "dfeg=dfe[dfe['Año de graduación']>=config_inf['Years'][0]].reset_index(drop=True)"
   ]
  },
  {
   "cell_type": "markdown",
   "metadata": {
    "slideshow": {
     "slide_type": "slide"
    }
   },
   "source": [
    "##### Estudiantes  matriculados"
   ]
  },
  {
   "cell_type": "code",
   "execution_count": 21,
   "metadata": {
    "collapsed": false,
    "slideshow": {
     "slide_type": "fragment"
    }
   },
   "outputs": [],
   "source": [
    "dfeit=dfei[np.logical_or(dfei['Estado']=='Activo',dfei['Estado']=='Graduado')]\n",
    "dfeit[['Año de ingreso','Estado']]\n",
    "nuevos=dfei.groupby('Año de ingreso').count()['ASESOR'][::-1]"
   ]
  },
  {
   "cell_type": "markdown",
   "metadata": {
    "slideshow": {
     "slide_type": "slide"
    }
   },
   "source": [
    "##### Artículos con participación de estudiantes"
   ]
  },
  {
   "cell_type": "code",
   "execution_count": 22,
   "metadata": {
    "collapsed": false,
    "slideshow": {
     "slide_type": "fragment"
    }
   },
   "outputs": [
    {
     "ename": "AttributeError",
     "evalue": "'DataFrame' object has no attribute 'PROGRAMA'",
     "output_type": "error",
     "traceback": [
      "\u001b[1;31m---------------------------------------------------------------------------\u001b[0m",
      "\u001b[1;31mAttributeError\u001b[0m                            Traceback (most recent call last)",
      "\u001b[1;32m<ipython-input-22-fec4b7859668>\u001b[0m in \u001b[0;36m<module>\u001b[1;34m()\u001b[0m\n\u001b[0;32m      4\u001b[0m \u001b[0mdfd\u001b[0m\u001b[1;33m=\u001b[0m\u001b[0mpd\u001b[0m\u001b[1;33m.\u001b[0m\u001b[0mSeries\u001b[0m\u001b[1;33m(\u001b[0m\u001b[1;33m)\u001b[0m\u001b[1;33m\u001b[0m\u001b[0m\n\u001b[0;32m      5\u001b[0m \u001b[0mart_est\u001b[0m\u001b[1;33m=\u001b[0m\u001b[0mpd\u001b[0m\u001b[1;33m.\u001b[0m\u001b[0mSeries\u001b[0m\u001b[1;33m(\u001b[0m\u001b[1;33m)\u001b[0m\u001b[1;33m\u001b[0m\u001b[0m\n\u001b[1;32m----> 6\u001b[1;33m \u001b[0mdfd\u001b[0m\u001b[1;33m[\u001b[0m\u001b[1;34m'D'\u001b[0m\u001b[1;33m]\u001b[0m\u001b[1;33m=\u001b[0m\u001b[0mdfei\u001b[0m\u001b[1;33m[\u001b[0m\u001b[0mdfei\u001b[0m\u001b[1;33m.\u001b[0m\u001b[0mPROGRAMA\u001b[0m\u001b[1;33m==\u001b[0m\u001b[1;34m'Doctorado'\u001b[0m\u001b[1;33m]\u001b[0m\u001b[1;33m.\u001b[0m\u001b[0mreset_index\u001b[0m\u001b[1;33m(\u001b[0m\u001b[0mdrop\u001b[0m\u001b[1;33m=\u001b[0m\u001b[0mTrue\u001b[0m\u001b[1;33m)\u001b[0m\u001b[1;33m\u001b[0m\u001b[0m\n\u001b[0m\u001b[0;32m      7\u001b[0m \u001b[0mdfd\u001b[0m\u001b[1;33m[\u001b[0m\u001b[1;34m'M'\u001b[0m\u001b[1;33m]\u001b[0m\u001b[1;33m=\u001b[0m\u001b[0mdfei\u001b[0m\u001b[1;33m[\u001b[0m\u001b[0mdfei\u001b[0m\u001b[1;33m.\u001b[0m\u001b[0mPROGRAMA\u001b[0m\u001b[1;33m==\u001b[0m\u001b[1;34m'Maestría'\u001b[0m\u001b[1;33m]\u001b[0m\u001b[1;33m.\u001b[0m\u001b[0mreset_index\u001b[0m\u001b[1;33m(\u001b[0m\u001b[0mdrop\u001b[0m\u001b[1;33m=\u001b[0m\u001b[0mTrue\u001b[0m\u001b[1;33m)\u001b[0m\u001b[1;33m\u001b[0m\u001b[0m\n\u001b[0;32m      8\u001b[0m \u001b[0mdfd\u001b[0m\u001b[1;33m[\u001b[0m\u001b[1;34m'P'\u001b[0m\u001b[1;33m]\u001b[0m\u001b[1;33m=\u001b[0m\u001b[0mdfei\u001b[0m\u001b[1;33m\u001b[0m\u001b[0m\n",
      "\u001b[1;32m/usr/local/lib/python2.7/dist-packages/pandas/core/generic.pyc\u001b[0m in \u001b[0;36m__getattr__\u001b[1;34m(self, name)\u001b[0m\n\u001b[0;32m   2358\u001b[0m                 \u001b[1;32mreturn\u001b[0m \u001b[0mself\u001b[0m\u001b[1;33m[\u001b[0m\u001b[0mname\u001b[0m\u001b[1;33m]\u001b[0m\u001b[1;33m\u001b[0m\u001b[0m\n\u001b[0;32m   2359\u001b[0m             raise AttributeError(\"'%s' object has no attribute '%s'\" %\n\u001b[1;32m-> 2360\u001b[1;33m                                  (type(self).__name__, name))\n\u001b[0m\u001b[0;32m   2361\u001b[0m \u001b[1;33m\u001b[0m\u001b[0m\n\u001b[0;32m   2362\u001b[0m     \u001b[1;32mdef\u001b[0m \u001b[0m__setattr__\u001b[0m\u001b[1;33m(\u001b[0m\u001b[0mself\u001b[0m\u001b[1;33m,\u001b[0m \u001b[0mname\u001b[0m\u001b[1;33m,\u001b[0m \u001b[0mvalue\u001b[0m\u001b[1;33m)\u001b[0m\u001b[1;33m:\u001b[0m\u001b[1;33m\u001b[0m\u001b[0m\n",
      "\u001b[1;31mAttributeError\u001b[0m: 'DataFrame' object has no attribute 'PROGRAMA'"
     ]
    }
   ],
   "source": [
    "dfei=dfei[dfei.Estado!='Desertor'].reset_index(drop=True)\n",
    "#Estudiantes\n",
    "student_coauthor=1 #until 2 years after graduation date\n",
    "dfd=pd.Series()\n",
    "art_est=pd.Series()\n",
    "dfd['D']=dfei[dfei.PROGRAMA=='Doctorado'].reset_index(drop=True)\n",
    "dfd['M']=dfei[dfei.PROGRAMA=='Maestría'].reset_index(drop=True)\n",
    "dfd['P']=dfei\n",
    "for k in dfd.keys():\n",
    "    art_est[k]=pd.DataFrame()\n",
    "    if k=='P': est_p=pd.DataFrame()\n",
    "#phdest=pd.DataFrame()\n",
    "    dfd[k]['Author']=''\n",
    "    for i in range(dfd[k].shape[0]):\n",
    "        est=re.sub('\\s+$','',re.sub('^\\s+','',dfd[k]['ESTUDIANTE'][i])).replace('  ',' ').split(' ')\n",
    "        if len(est)==4:\n",
    "            dfd[k]['Author'][i]='%s, %s' %(plainstr(est[2]),est[0][0])\n",
    "        elif len(est)==3:        \n",
    "            dfd[k]['Author'][i]='%s, %s' %(plainstr(est[1]),est[0][0])\n",
    "        elif len(est)==2:\n",
    "            dfd[k]['Author'][i]='%s, %s' %(plainstr(est[1]),est[0][0])\n",
    "        else:\n",
    "            dfd[k]['Author'][i]='%s, %s' %(plainstr(est[-1]),est[0][0])\n",
    "        #special cases\n",
    "        if dfd[k]['Author'][i]=='Duque, C':\n",
    "            dfd[k]['Author'][i]='Duque, CM'\n",
    "        if dfd[k]['Author'][i]=='Restrepo, J':\n",
    "            dfd[k]['Author'][i]='Restrepo Cuartas, J'\n",
    "    \n",
    "        ma=publicadas[publicadas['Autor(es)'].str.contains(dfd[k]['Author'][i])]\n",
    "        if ma.shape[0]>0: #Check also Group\n",
    "            ma['Estudiante']=dfd[k]['Author'][i]\n",
    "            ma['Estudiante_full']=dfd[k]['ESTUDIANTE'][i]\n",
    "            ma['Año Graduación']=dfd[k]['Año de graduación'][i]\n",
    "            ma=ma[ma['Año']>=dfd[k]['Año de ingreso'][i]]\n",
    "            if dfd[k]['Fecha de graduación'][i]!='':\n",
    "                ya=dfd[k]['Año de graduación'][i]+student_coauthor\n",
    "                #ya=eval(re.sub('-[12]$','',dfd[k]['Fecha de graduación'][i]))+student_coauthor\n",
    "                ma=ma[ma['Año']<=ya]\n",
    "    \n",
    "        art_est[k]=art_est[k].append(ma)\n",
    "\n",
    "    if k=='P':est_p=art_est[k].drop_duplicates()    \n",
    "    art_est[k]=art_est[k].drop_duplicates().reset_index(True).sort('Año',ascending=False).reset_index(drop=True)\n",
    "    art_est[k]=art_est[k][['Tipo','Artículo','Autor(es)','Año Graduación','Año','Revista','ISSN','Estudiante']]"
   ]
  },
  {
   "cell_type": "markdown",
   "metadata": {
    "slideshow": {
     "slide_type": "skip"
    }
   },
   "source": [
    "Todo: 'Año Graduación' :USAR PARA FILTRAR Profesores cuando eran estudiantes"
   ]
  },
  {
   "cell_type": "code",
   "execution_count": null,
   "metadata": {
    "collapsed": false,
    "slideshow": {
     "slide_type": "skip"
    }
   },
   "outputs": [],
   "source": [
    "#est_p.sort('Año Graduación',ascending=False)['Año Graduación'][i]"
   ]
  },
  {
   "cell_type": "code",
   "execution_count": null,
   "metadata": {
    "collapsed": false
   },
   "outputs": [],
   "source": [
    "publicadas['Estudiantes']=''\n",
    "publicadas['Año Graduación']=0 \n",
    "for i in est_p.index:\n",
    "    lst=sorted(np.unique(est_p['Estudiante_full'][i]))\n",
    "    sep=''\n",
    "    if len(lst)>1: sep='; '\n",
    "    lst=sep.join(lst)\n",
    "    lst=lst.replace('John Jairo Zuluaga Quintero; Jorge Ivan Zuluaga Callejas','Jorge Ivan Zuluaga Callejas')\n",
    "    lst=lst.replace('Johan Mazo-Zuluaga; Jorge Ivan Zuluaga Callejas','Jorge Ivan Zuluaga Callejas')\n",
    "    lst=lst.replace('Johan Mazo-Zuluaga; Juan Pablo Restrepo Cuartas','Johan Mazo-Zuluaga')\n",
    "    publicadas['Estudiantes'][i]=lst\n",
    "    #publicadas['Año Graduación'][i]=est_p.sort('Año Graduación',ascending=False\\\n",
    "    #                                          )['Año Graduación'][i].reset_index(drop=True)[:-1][0]"
   ]
  },
  {
   "cell_type": "markdown",
   "metadata": {
    "slideshow": {
     "slide_type": "slide"
    }
   },
   "source": [
    "### Contar artículos por año\n",
    "y clasisificarlos"
   ]
  },
  {
   "cell_type": "code",
   "execution_count": null,
   "metadata": {
    "collapsed": false,
    "slideshow": {
     "slide_type": "fragment"
    }
   },
   "outputs": [],
   "source": [
    "G=pd.Series()\n",
    "grupos=['GFIF','GES','GFAM','GMC','GOF','MS','FACOM']\n",
    "t=publicadas['Año'].value_counts()\n",
    "i=publicadas[publicadas.Tipo=='Internacional']['Año'].value_counts()\n",
    "n=publicadas[publicadas.Tipo=='Nacional']['Año'].value_counts()\n",
    "facom=publicadas[publicadas.Grupo.str.contains('FACOM')]['Año'].value_counts()\n",
    "for g in grupos:\n",
    "    G[g]=publicadas[publicadas.Grupo.str.contains(g)]['Año'].value_counts()"
   ]
  },
  {
   "cell_type": "code",
   "execution_count": null,
   "metadata": {
    "collapsed": false,
    "slideshow": {
     "slide_type": "fragment"
    }
   },
   "outputs": [],
   "source": [
    "autor=pd.Series()\n",
    "autor['Posgrado']=art_est.P.groupby('Año').count().Tipo[::-1]\n",
    "autor['Doctorado']  =art_est.D.groupby('Año').count().Tipo[::-1]\n",
    "autor['Master']=art_est.M.groupby('Año').count().Tipo[::-1]"
   ]
  },
  {
   "cell_type": "markdown",
   "metadata": {
    "slideshow": {
     "slide_type": "slide"
    }
   },
   "source": [
    "## Datos consolidados\n",
    "Prepare pandas DataFrame"
   ]
  },
  {
   "cell_type": "code",
   "execution_count": null,
   "metadata": {
    "collapsed": false,
    "slideshow": {
     "slide_type": "fragment"
    }
   },
   "outputs": [],
   "source": [
    "rdf=pd.DataFrame()\n",
    "ng=pd.Series()\n",
    "for y in range(1995,2016)[::-1]:\n",
    "    year=False\n",
    "    if y in t.keys():\n",
    "        na=t[y]\n",
    "    else: na=0\n",
    "    if y in i.keys():\n",
    "        ni=i[y]\n",
    "    else: ni=0\n",
    "    if y in n.keys():\n",
    "        nn=n[y]\n",
    "    else: nn=0\n",
    "    if y in facom.keys():\n",
    "        nfacom=facom[y]\n",
    "    else: nfacom=0\n",
    "    for g in grupos:\n",
    "        if y in G[g].keys():\n",
    "            ng[g]=G[g][y]\n",
    "    else: nges=0\n",
    "    for k in ['Posgrado','Master','Doctorado']:\n",
    "        if not y in autor[k]:\n",
    "            autor[k][y]=0\n",
    "    #FAudea=publicadas[publicadas['Año']==y]['Institution Authors'].fillna('NN')\\\n",
    "    #.str.replace('Mora Ramos Miguel; ','').str.replace(';.*','').unique().shape[0]\n",
    "    FAudea=publicadas[publicadas['Año']==y]['First_UdeA_Author'].unique().shape[0]\n",
    "    Audea=np.unique(publicadas[publicadas['Año']==y]['Institution Authors'].fillna('NN').str.split('; ').sum()).shape[0]\n",
    "    pes=publicadas[publicadas['Año']==y]\n",
    "    Eudea=np.unique(pes[pes['Estudiantes']!='']['Estudiantes'].str.split('; ').sum())\n",
    "    if Eudea==np.array([0]): #simplify code\n",
    "        Eudea=0\n",
    "    else:\n",
    "        Eudea=Eudea.shape[0]\n",
    "        #'GES','GOF','GFIF'\n",
    "    rdf=rdf.append({'year':y,'articles':na,'isi_o_scopus':ni,'nacional':nn,'facom':nfacom,\\\n",
    "                   'GFIF':ng['GFIF'],'GES':ng['GES'],'GFAM':ng['GFAM'],'GMC':ng['GMC'],\\\n",
    "                    'GOF':ng['GOF'],'MS':ng['MS'],'FACOM':ng['FACOM'],\\\n",
    "                    'first_UdeA_author':FAudea,'UdeA_author':Audea,\\\n",
    "                   'art_posgrado':autor.Posgrado[y],'art_master':autor.Master[y],\\\n",
    "                    'art_doctorado':autor.Doctorado[y],'UdeA_estudiante':Eudea},ignore_index=True)\n",
    "\n",
    "rdf"
   ]
  },
  {
   "cell_type": "markdown",
   "metadata": {
    "slideshow": {
     "slide_type": "slide"
    }
   },
   "source": [
    "# Resultados"
   ]
  },
  {
   "cell_type": "markdown",
   "metadata": {
    "slideshow": {
     "slide_type": "slide"
    }
   },
   "source": [
    "## Resultados sobre número de publicaciones"
   ]
  },
  {
   "cell_type": "markdown",
   "metadata": {
    "slideshow": {
     "slide_type": "slide"
    }
   },
   "source": [
    "En el plano: número de artículos en función del año. Se añade la información de cuantos primeros autores de la UdeA participan en los artículos"
   ]
  },
  {
   "cell_type": "code",
   "execution_count": null,
   "metadata": {
    "collapsed": false,
    "slideshow": {
     "slide_type": "fragment"
    }
   },
   "outputs": [],
   "source": [
    "plt.plot(rdf.year,rdf.articles,label='TOTAL')\n",
    "plt.plot(rdf.year,rdf.articles,'bo',label='First author')\n",
    "plt.plot(rdf.year,rdf.isi_o_scopus,label='ISI o Scopus')\n",
    "plt.plot(rdf.year,rdf.nacional,label='Nacional')\n",
    "plt.plot(rdf.year,rdf.facom,label=u'FACOM')\n",
    "plt.hlines(rdf[rdf.year>2007].isi_o_scopus.mean(),2007,rdf.year.values[0],linestyles='dashed',label='mean(2007)')\n",
    "plt.legend(loc='best')\n",
    "for i in range(len(rdf.year)):\n",
    "    plt.annotate(str(int(rdf.first_UdeA_author[i])),xy=(rdf.year[i],rdf.articles[i]),\\\n",
    "                 horizontalalignment='center',size=15)\n",
    "plt.xlabel('Year',size=20)\n",
    "plt.ylabel('Publication number',size=20)"
   ]
  },
  {
   "cell_type": "markdown",
   "metadata": {
    "slideshow": {
     "slide_type": "subslide"
    }
   },
   "source": [
    "En los picos hay una mezcla de profesores y estudiantes..."
   ]
  },
  {
   "cell_type": "markdown",
   "metadata": {
    "slideshow": {
     "slide_type": "slide"
    }
   },
   "source": [
    "O en términos del número de autores total de la UdeA que participan en los artículos"
   ]
  },
  {
   "cell_type": "code",
   "execution_count": null,
   "metadata": {
    "collapsed": false,
    "slideshow": {
     "slide_type": "fragment"
    }
   },
   "outputs": [],
   "source": [
    "plt.plot(rdf.year,rdf.articles,label='TOTAL')\n",
    "plt.plot(rdf.year,rdf.articles,'bo',label='Author')\n",
    "plt.plot(rdf.year,rdf.isi_o_scopus,label='ISI o Scopus')\n",
    "plt.plot(rdf.year,rdf.nacional,label='Nacional')\n",
    "plt.plot(rdf.year,rdf.facom,label=u'FACOM')\n",
    "plt.hlines(rdf[rdf.year>2007].isi_o_scopus.mean(),2007,rdf.year.values[0],linestyles='dashed',label='mean(2007)')\n",
    "plt.legend(loc='best')\n",
    "for i in range(len(rdf.year)):\n",
    "    plt.annotate(str(int(rdf.UdeA_author[i])),xy=(rdf.year[i],rdf.articles[i]),\\\n",
    "                 horizontalalignment='center',size=15)\n",
    "plt.xlabel('Year',size=20)\n",
    "plt.ylabel('Publication number',size=20)"
   ]
  },
  {
   "cell_type": "markdown",
   "metadata": {
    "slideshow": {
     "slide_type": "slide"
    }
   },
   "source": [
    "2009 Team"
   ]
  },
  {
   "cell_type": "code",
   "execution_count": null,
   "metadata": {
    "collapsed": false,
    "slideshow": {
     "slide_type": "fragment"
    }
   },
   "outputs": [],
   "source": [
    "y=2009\n",
    "values=np.unique(publicadas[publicadas['Año']==y]['Institution Authors'].fillna('NN').str.split('; ').sum())\n",
    "pd.Series(dict(zip(range(values.shape[0]), values)))"
   ]
  },
  {
   "cell_type": "markdown",
   "metadata": {
    "slideshow": {
     "slide_type": "slide"
    }
   },
   "source": [
    "O en términos del número de estudiantes de posgrado en la lista de autores "
   ]
  },
  {
   "cell_type": "code",
   "execution_count": null,
   "metadata": {
    "collapsed": false,
    "slideshow": {
     "slide_type": "fragment"
    }
   },
   "outputs": [],
   "source": [
    "plt.plot(rdf.year,rdf.articles,label='TOTAL')\n",
    "plt.plot(rdf.year,rdf.isi_o_scopus,label='ISI o Scopus')\n",
    "plt.plot(rdf.year,rdf.nacional,label='Nacional')\n",
    "plt.plot(rdf.year,rdf.art_posgrado,'y-',lw=2,label=u'Artículos Posgrado')\n",
    "plt.plot(rdf.year,rdf.art_posgrado,'co',lw=2,label='Estudiantes')\n",
    "plt.hlines(rdf[rdf.year>2007].isi_o_scopus.mean(),2007,rdf.year.values[0],linestyles='dashed',label='mean(2007)')\n",
    "plt.legend(loc='best')\n",
    "for i in range(len(rdf.year)):\n",
    "    plt.annotate(str(int(rdf.UdeA_estudiante[i])),xy=(rdf.year[i],rdf.art_posgrado[i]),\\\n",
    "                 horizontalalignment='center',size=15)\n",
    "plt.xlabel('Year',size=20)\n",
    "plt.ylabel('Publication number',size=20)"
   ]
  },
  {
   "cell_type": "markdown",
   "metadata": {
    "slideshow": {
     "slide_type": "slide"
    }
   },
   "source": [
    "2009 Student's Team"
   ]
  },
  {
   "cell_type": "code",
   "execution_count": null,
   "metadata": {
    "collapsed": false,
    "slideshow": {
     "slide_type": "fragment"
    }
   },
   "outputs": [],
   "source": [
    "y=2009\n",
    "values=np.unique(publicadas[np.logical_and(publicadas.Year==y,publicadas.Estudiantes!='')].Estudiantes.str.split('; ').sum())\n",
    "pd.Series(dict(zip(range(values.shape[0]), values)))"
   ]
  },
  {
   "cell_type": "markdown",
   "metadata": {
    "slideshow": {
     "slide_type": "subslide"
    }
   },
   "source": [
    "####Observación\n",
    "En los picos se nota un incremento en la participación de estudiantes, sobre todo en revistas nacionales (¿Congresos?)\n",
    "\n",
    "Miremos entonces los Grupos"
   ]
  },
  {
   "cell_type": "code",
   "execution_count": null,
   "metadata": {
    "collapsed": false,
    "slideshow": {
     "slide_type": "slide"
    }
   },
   "outputs": [],
   "source": [
    "plt.plot(rdf.year,rdf.articles,'k-',lw=2,label='mean(>2006)=%.1F: TOTAL'  %rdf[rdf.year>2006].articles.mean(), )\n",
    "#plt.plot(rdf.year,rdf.articles,'bo')\n",
    "GT=np.zeros(21)\n",
    "\n",
    "for g in grupos:\n",
    "    GT=GT+rdf[g]\n",
    "    plt.semilogy(rdf.year,rdf[g],s[g],lw=2,label=u'mean(>2006)=%.1F: %s'  %( rdf[rdf.year>2006][g].mean(),g ) )    \n",
    "    #plt.semilogy(rdf.year,rdf[g],'k.',lw=2)    \n",
    "    \n",
    "#plt.semilogy(rdf.year,GT ,label='Suma')    #crosscheck\n",
    "plt.hlines(10,1995,2015,linestyles=':')\n",
    "plt.hlines(20,1995,2015,linestyles=':')\n",
    "plt.hlines(30,1995,2015,linestyles=':')\n",
    "plt.ylim(1,1000)\n",
    "plt.legend(loc='upper left',fontsize='small')\n",
    "plt.xlabel('Year',size=20)\n",
    "plt.ylabel('Publication number',size=20)\n",
    "plt.grid()"
   ]
  },
  {
   "cell_type": "code",
   "execution_count": null,
   "metadata": {
    "collapsed": false
   },
   "outputs": [],
   "source": [
    "'%.1F' %rdf[rdf.year>2006][g].mean()"
   ]
  },
  {
   "cell_type": "markdown",
   "metadata": {
    "slideshow": {
     "slide_type": "slide"
    }
   },
   "source": [
    "## Resultados Por Grupos de Investigación"
   ]
  },
  {
   "cell_type": "markdown",
   "metadata": {
    "slideshow": {
     "slide_type": "slide"
    }
   },
   "source": [
    "#### Histórico"
   ]
  },
  {
   "cell_type": "code",
   "execution_count": null,
   "metadata": {
    "collapsed": false,
    "slideshow": {
     "slide_type": "fragment"
    }
   },
   "outputs": [],
   "source": [
    "publicadas['Grupo'].value_counts()[:10].plot(kind='barh', rot=0, grid=True)\n",
    "plt.xlabel(u'Número de artículos',size=20)"
   ]
  },
  {
   "cell_type": "markdown",
   "metadata": {
    "slideshow": {
     "slide_type": "slide"
    }
   },
   "source": [
    "#### Últimos cinco años\n"
   ]
  },
  {
   "cell_type": "code",
   "execution_count": null,
   "metadata": {
    "collapsed": false,
    "slideshow": {
     "slide_type": "fragment"
    }
   },
   "outputs": [],
   "source": [
    "publicadas5['Grupo'].value_counts()[:10].plot(kind='barh', rot=0,grid=True)\n",
    "plt.xlabel(u'Número de artículos',size=20)"
   ]
  },
  {
   "cell_type": "markdown",
   "metadata": {
    "slideshow": {
     "slide_type": "slide"
    }
   },
   "source": [
    "###Conclusión\n",
    "Se ha alcanzado un valor asintótico, no solo en el número total, sino también en general en los grupos"
   ]
  },
  {
   "cell_type": "markdown",
   "metadata": {
    "slideshow": {
     "slide_type": "skip"
    }
   },
   "source": [
    "H0 lo separó en H 0 y no lo encontró: solución: admita alguna palabras faltantes en títulos largos:\n",
    "\n",
    "* http://dx.doi.org/10.1209/0295-5075/109/39002 "
   ]
  },
  {
   "cell_type": "markdown",
   "metadata": {
    "slideshow": {
     "slide_type": "slide"
    }
   },
   "source": [
    "## Resultados por  Áreas"
   ]
  },
  {
   "cell_type": "markdown",
   "metadata": {},
   "source": [
    "####Histórico"
   ]
  },
  {
   "cell_type": "code",
   "execution_count": null,
   "metadata": {
    "collapsed": false,
    "slideshow": {
     "slide_type": "fragment"
    }
   },
   "outputs": [],
   "source": [
    "Tot=publicadas.shape[0]/np.unique(publicadas['Institution Authors'].fillna('NN').str.split('; ').sum()).shape[0]\n",
    "p=publicadas['Area'].value_counts()\n",
    "at=np.unique(publicadas[publicadas.Area=='Teórica']['Institution Authors'].fillna('NN').str.split('; ').sum()).shape[0]\n",
    "ae=np.unique(publicadas[publicadas.Area=='Experimental']['Institution Authors'].fillna('NN').str.split('; ').sum()).shape[0]\n",
    "gmc=publicadas[publicadas.Grupo.str.contains('GMC')].shape[0]\n",
    "publicadas['Area'].value_counts().plot(kind='barh', rot=0, grid=True)\n",
    "plt.title(u'Artículos/Autores_UdeA: Tot:%0.1f; Exp:%0.1f; Teo:%0.1f; Teo(sin GMC):%0.1f' %(Tot, p.Experimental/float(ae),p['Teórica']/float(ae),\\\n",
    "                                                               (p['Teórica']-gmc)/float(ae-2) ) )\n",
    "plt.xlabel(u'Número de artículos',size=20)"
   ]
  },
  {
   "cell_type": "markdown",
   "metadata": {
    "slideshow": {
     "slide_type": "slide"
    }
   },
   "source": [
    "#### Últimos 5 años:"
   ]
  },
  {
   "cell_type": "code",
   "execution_count": null,
   "metadata": {
    "collapsed": false,
    "slideshow": {
     "slide_type": "fragment"
    }
   },
   "outputs": [],
   "source": [
    "Tot=publicadas5.shape[0]/np.unique(publicadas5['Institution Authors'].fillna('NN').str.split('; ').sum()).shape[0]\n",
    "p=publicadas5['Area'].value_counts()\n",
    "at=np.unique(publicadas5[publicadas5.Area=='Teórica']['Institution Authors'].fillna('NN').str.split('; ').sum()).shape[0]\n",
    "ae=np.unique(publicadas5[publicadas5.Area=='Experimental']['Institution Authors'].fillna('NN').str.split('; ').sum()).shape[0]\n",
    "gmc=publicadas5[publicadas5.Grupo.str.contains('GMC')].shape[0]\n",
    "publicadas5['Area'].value_counts().plot(kind='barh', rot=0, grid=True)\n",
    "plt.title(u'Artículos/Autores_UdeA: Tot:%0.1f; Exp:%0.1f; Teo:%0.1f; Teo(sin GMC):%0.1f' %(Tot, p.Experimental/float(ae),p['Teórica']/float(ae),\\\n",
    "                                                               (p['Teórica']-gmc)/float(ae-2) ) )\n",
    "plt.xlabel(u'Número de artículos',size=20)"
   ]
  },
  {
   "cell_type": "markdown",
   "metadata": {
    "slideshow": {
     "slide_type": "slide"
    }
   },
   "source": [
    "#### Conclusión\n",
    "En teoría se produce más"
   ]
  },
  {
   "cell_type": "markdown",
   "metadata": {
    "slideshow": {
     "slide_type": "slide"
    }
   },
   "source": [
    "## Resultados de Primeros autores UdeA\n",
    "Primeros 15"
   ]
  },
  {
   "cell_type": "markdown",
   "metadata": {
    "slideshow": {
     "slide_type": "fragment"
    }
   },
   "source": [
    "####  Histórico"
   ]
  },
  {
   "cell_type": "code",
   "execution_count": null,
   "metadata": {
    "collapsed": false,
    "slideshow": {
     "slide_type": "fragment"
    }
   },
   "outputs": [],
   "source": [
    "publicadas['First_UdeA_Author'].value_counts()[:15].plot(kind='barh', rot=0, grid=True)\n",
    "plt.xlabel(u'Número de artículos',size=20)"
   ]
  },
  {
   "cell_type": "markdown",
   "metadata": {
    "slideshow": {
     "slide_type": "slide"
    }
   },
   "source": [
    "#### Últimos cinco años"
   ]
  },
  {
   "cell_type": "code",
   "execution_count": null,
   "metadata": {
    "collapsed": false,
    "slideshow": {
     "slide_type": "fragment"
    }
   },
   "outputs": [],
   "source": [
    "publicadas5['First_UdeA_Author'].value_counts()[:15].plot(kind='barh', rot=0, grid=True)#\n",
    "plt.xlabel(u'Número de artículos',size=20)"
   ]
  },
  {
   "cell_type": "markdown",
   "metadata": {
    "slideshow": {
     "slide_type": "slide"
    }
   },
   "source": [
    "###Conclusión\n",
    "Se alcanza a notar algo del relevo generacional"
   ]
  },
  {
   "cell_type": "markdown",
   "metadata": {
    "slideshow": {
     "slide_type": "skip"
    }
   },
   "source": [
    "Ejemplos plots con `pandas`: http://pandas.pydata.org/pandas-docs/dev/visualization.html"
   ]
  },
  {
   "cell_type": "markdown",
   "metadata": {
    "slideshow": {
     "slide_type": "skip"
    }
   },
   "source": [
    "### Internacionales y Nacionales"
   ]
  },
  {
   "cell_type": "markdown",
   "metadata": {
    "slideshow": {
     "slide_type": "skip"
    }
   },
   "source": [
    "The group counts, analogous to the value_counts function above, can be computed\n",
    "    using size. This result is then reshaped into a table with unstack:"
   ]
  },
  {
   "cell_type": "code",
   "execution_count": null,
   "metadata": {
    "collapsed": false,
    "slideshow": {
     "slide_type": "skip"
    }
   },
   "outputs": [],
   "source": [
    "tipo5 = np.where(publicadas5['Tipo'].str.contains('Internacional'),'Internacional', 'Nacional')\n",
    "by_group_tipo5 = publicadas5.groupby(['Grupo', tipo5])\n",
    "gt_counts = by_group_tipo5.size().unstack().fillna(0)\n",
    "indexer = gt_counts.sum(1).argsort()\n",
    "count_subset = gt_counts.take(indexer)\n",
    "count_subset[4:].plot(kind='barh', stacked=True,grid=True)\n",
    "plt.xlabel(u'Número de artículos',size=20)"
   ]
  },
  {
   "cell_type": "markdown",
   "metadata": {
    "slideshow": {
     "slide_type": "slide"
    }
   },
   "source": [
    "## Resultados por citaciones a los artículos"
   ]
  },
  {
   "cell_type": "code",
   "execution_count": null,
   "metadata": {
    "collapsed": false,
    "slideshow": {
     "slide_type": "fragment"
    }
   },
   "outputs": [],
   "source": [
    "publicadas[['Cites']].hist(bins=100)\n",
    "#plt.ylabel(u'Número de artículos',size=20)\n",
    "plt.xlabel(u'Citas',size=20)\n",
    "plt.ylabel(u'Número de artículos',size=20)"
   ]
  },
  {
   "cell_type": "code",
   "execution_count": null,
   "metadata": {
    "collapsed": false,
    "slideshow": {
     "slide_type": "slide"
    }
   },
   "outputs": [],
   "source": [
    "publicadas[['Cites']].hist(bins=400)\n",
    "#plt.ylabel(u'Número de artículos',size=20)\n",
    "plt.xlabel(u'Citas',size=20)\n",
    "plt.ylabel(u'Número de artículos',size=20)\n",
    "plt.xlim(0,100)\n",
    "plt.ylim(0,100)"
   ]
  },
  {
   "cell_type": "markdown",
   "metadata": {},
   "source": [
    "Incluye el índice h [https://en.wikipedia.org/wiki/H-index]"
   ]
  },
  {
   "cell_type": "markdown",
   "metadata": {
    "slideshow": {
     "slide_type": "slide"
    }
   },
   "source": [
    "#### Global"
   ]
  },
  {
   "cell_type": "code",
   "execution_count": null,
   "metadata": {
    "collapsed": false,
    "slideshow": {
     "slide_type": "fragment"
    }
   },
   "outputs": [],
   "source": [
    "def h_index(x,y):\n",
    "    ax=np.asarray(x)\n",
    "    ay=np.asarray(y)\n",
    "    return ax[ax>ay][0]\n",
    "\n",
    "x=range(1,publicadas.Cites.max()+1,1)\n",
    "y=[publicadas[publicadas.Cites>=c].shape[0] for c in x]\n",
    "h=h_index(x,y)\n",
    "plt.hlines(h,1,1000,linestyles='dashed',label='h-index=%d' %h)\n",
    "plt.vlines(h,1,1000,linestyles='dashed')\n",
    "plt.loglog(x,y,lw=2,label='Todo')\n",
    "x=range(1,publicadas5.Cites.max()+1,1)\n",
    "y=[publicadas5[publicadas5.Cites>=c].shape[0] for c in x]\n",
    "h=h_index(x,y)\n",
    "plt.hlines(h,1,1000,linestyles='dotted',lw=2,colors='r',label='h-index=%d (38)' %h)\n",
    "plt.vlines(h,1,1000,linestyles='dotted',lw=2,colors='r')\n",
    "plt.loglog(x,y,lw=2,label='Desde 2011')\n",
    "plt.legend(loc='best')\n",
    "plt.xlabel('Citas',size=20)\n",
    "plt.ylabel(u'Número de artículos',size=20)"
   ]
  },
  {
   "cell_type": "markdown",
   "metadata": {
    "slideshow": {
     "slide_type": "skip"
    }
   },
   "source": [
    "La diferencia con los últimos cinco años puede ser atribuible a los artículos con muchos autores"
   ]
  },
  {
   "cell_type": "markdown",
   "metadata": {
    "slideshow": {
     "slide_type": "slide"
    }
   },
   "source": [
    "#### Por Grupos histórico"
   ]
  },
  {
   "cell_type": "code",
   "execution_count": null,
   "metadata": {
    "collapsed": false,
    "slideshow": {
     "slide_type": "fragment"
    }
   },
   "outputs": [],
   "source": [
    "x=range(1,publicadas.Cites.max()+1,1)\n",
    "y=[publicadas[publicadas.Cites>=c].shape[0] for c in x]\n",
    "plt.loglog(x,y,'k-',lw=2,label='Todo (h=%d)' %h_index(x,y))\n",
    "\n",
    "for G in ['GFIF','GES','GMC','GOF','MS','GFAM','FACOM']:\n",
    "    pg=publicadas[publicadas.Grupo.str.contains(G)]\n",
    "    x=range(1,pg.Cites.max()+1,1)\n",
    "    y=[pg[pg.Cites>=c].shape[0] for c in x]\n",
    "\n",
    "    plt.loglog(x,y,s[G],lw=2,label='%s (h=%d)' %(G,h_index(x,y)))\n",
    "    \n",
    "plt.legend(loc='best')\n",
    "plt.xlabel('Citas',size=20)\n",
    "plt.ylabel(u'Número de artículos',size=20)"
   ]
  },
  {
   "cell_type": "markdown",
   "metadata": {
    "slideshow": {
     "slide_type": "slide"
    }
   },
   "source": [
    "#### Por Grupos últimos 5 años"
   ]
  },
  {
   "cell_type": "code",
   "execution_count": null,
   "metadata": {
    "collapsed": false,
    "slideshow": {
     "slide_type": "fragment"
    }
   },
   "outputs": [],
   "source": [
    "x=range(1,publicadas5.Cites.max()+1,1)\n",
    "y=[publicadas5[publicadas5.Cites>=c].shape[0] for c in x]\n",
    "plt.loglog(x,y,'k-',lw=2,label='Desde 2011 (h=%d)' %h_index(x,y))\n",
    "\n",
    "for G in ['GMC','GFIF','GOF','GFAM','GES','FACOM','MS']:\n",
    "    pg=publicadas5[publicadas5.Grupo.str.contains(G)]\n",
    "    x=range(1,pg.Cites.max()+1,1)\n",
    "    y=[pg[pg.Cites>=c].shape[0] for c in x]\n",
    "\n",
    "    plt.loglog(x,y,s[G],lw=2,label='%s (h=%d)' %(G,h_index(x,y)))\n",
    "    \n",
    "plt.legend(loc='best')\n",
    "plt.xlabel('Citas',size=20)\n",
    "plt.ylabel(u'Número de artículos',size=20)"
   ]
  },
  {
   "cell_type": "markdown",
   "metadata": {
    "slideshow": {
     "slide_type": "fragment"
    }
   },
   "source": [
    "GFIF: Tres artículos en CMS que en realidad son 10 (h-> 24)"
   ]
  },
  {
   "cell_type": "markdown",
   "metadata": {
    "slideshow": {
     "slide_type": "slide"
    }
   },
   "source": [
    "### Conclusión:\n",
    "Sabemos hacer el menú del día, pero...\n",
    "\n",
    "_¿Como hacer un plato gourmet?_"
   ]
  },
  {
   "cell_type": "markdown",
   "metadata": {
    "slideshow": {
     "slide_type": "slide"
    }
   },
   "source": [
    "## Restados sobre índicadores asociados a las revistas"
   ]
  },
  {
   "cell_type": "markdown",
   "metadata": {
    "slideshow": {
     "slide_type": "slide"
    }
   },
   "source": [
    "### Clasificación Colciencias"
   ]
  },
  {
   "cell_type": "code",
   "execution_count": null,
   "metadata": {
    "collapsed": false,
    "scrolled": true,
    "slideshow": {
     "slide_type": "skip"
    }
   },
   "outputs": [],
   "source": [
    "total=publicadas['Clasificación Colciencias'].value_counts()\n",
    "print \"Total A1+A2: \",total['A1']+total['A2']"
   ]
  },
  {
   "cell_type": "markdown",
   "metadata": {
    "slideshow": {
     "slide_type": "slide"
    }
   },
   "source": [
    "#### Histórico"
   ]
  },
  {
   "cell_type": "code",
   "execution_count": null,
   "metadata": {
    "collapsed": false,
    "slideshow": {
     "slide_type": "fragment"
    }
   },
   "outputs": [],
   "source": [
    "publicadas['Clasificación Colciencias'].value_counts().plot(kind='barh',grid=True)\n",
    "plt.xlabel(u'Número de artículos',size=20)"
   ]
  },
  {
   "cell_type": "markdown",
   "metadata": {
    "slideshow": {
     "slide_type": "slide"
    }
   },
   "source": [
    "#### Últimos cinco  años"
   ]
  },
  {
   "cell_type": "code",
   "execution_count": null,
   "metadata": {
    "collapsed": false,
    "slideshow": {
     "slide_type": "skip"
    }
   },
   "outputs": [],
   "source": [
    "total=publicadas5['Clasificación Colciencias'].value_counts()\n",
    "print \"Total A1+A2: \",total['A1']+total['A2']"
   ]
  },
  {
   "cell_type": "code",
   "execution_count": null,
   "metadata": {
    "collapsed": false,
    "slideshow": {
     "slide_type": "fragment"
    }
   },
   "outputs": [],
   "source": [
    "publicadas5['Clasificación Colciencias'].value_counts().plot(kind='barh',grid=True)\n",
    "plt.xlabel(u'Número de artículos',size=20)"
   ]
  },
  {
   "cell_type": "markdown",
   "metadata": {
    "slideshow": {
     "slide_type": "skip"
    }
   },
   "source": [
    "#### Publicadas último año"
   ]
  },
  {
   "cell_type": "code",
   "execution_count": null,
   "metadata": {
    "collapsed": false,
    "slideshow": {
     "slide_type": "skip"
    }
   },
   "outputs": [],
   "source": [
    "import datetime\n",
    "publicadas1=publicadas[publicadas['Año']>datetime.datetime.now().year-1]\n",
    "len(publicadas1)"
   ]
  },
  {
   "cell_type": "markdown",
   "metadata": {
    "slideshow": {
     "slide_type": "slide"
    }
   },
   "source": [
    "<h2 id=\"FI\">Factor de impacto</h2>\n",
    "### Factor de impacto (FI) en revistas con FI>0\n",
    "Factor de impacto de los últimos 4 años. Para publicaciones muy antigüas se usa el FI más antigüo"
   ]
  },
  {
   "cell_type": "markdown",
   "metadata": {},
   "source": [
    "#### Histórico"
   ]
  },
  {
   "cell_type": "code",
   "execution_count": null,
   "metadata": {
    "collapsed": false,
    "slideshow": {
     "slide_type": "fragment"
    }
   },
   "outputs": [],
   "source": [
    "fi=publicadas[['Factor de Impacto']].replace('null',0)\n",
    "fii=fi[fi['Factor de Impacto']>0].reset_index(drop=True)\n",
    "fii.astype('float')['Factor de Impacto'].hist(bins=40)\n",
    "plt.ylabel(u'Número de artículos',size=20)\n",
    "plt.xlabel(u'Factor de impacto',size=20)"
   ]
  },
  {
   "cell_type": "markdown",
   "metadata": {
    "slideshow": {
     "slide_type": "fragment"
    }
   },
   "source": [
    "Impondremos un corte para facilitar la visualización: FI<15"
   ]
  },
  {
   "cell_type": "code",
   "execution_count": null,
   "metadata": {
    "collapsed": true,
    "slideshow": {
     "slide_type": "fragment"
    }
   },
   "outputs": [],
   "source": [
    "publicadas=publicadas[publicadas['Factor de Impacto']<15]"
   ]
  },
  {
   "cell_type": "markdown",
   "metadata": {
    "slideshow": {
     "slide_type": "slide"
    }
   },
   "source": [
    "#### Histórico por Grupos"
   ]
  },
  {
   "cell_type": "code",
   "execution_count": null,
   "metadata": {
    "collapsed": false,
    "slideshow": {
     "slide_type": "fragment"
    }
   },
   "outputs": [],
   "source": [
    "for group in ['GFIF','GES','GFAM','GMC','GOF','MS','FACOM']:\n",
    "    fi=publicadas[publicadas['Grupo'].str.contains(group)][['Factor de Impacto']].replace('null',0)\n",
    "    fii=fi[fi['Factor de Impacto']>0].reset_index(drop=True)\n",
    "    fii.astype('float')['Factor de Impacto'].hist(bins=20,label=group) \n",
    "    plt.legend(loc='best')\n",
    "    plt.ylabel(u'Número de artículos',size=20)\n",
    "    plt.xlabel(u'Factor de impacto',size=20)"
   ]
  },
  {
   "cell_type": "markdown",
   "metadata": {
    "slideshow": {
     "slide_type": "slide"
    }
   },
   "source": [
    "#### Últimos cinco años Global"
   ]
  },
  {
   "cell_type": "code",
   "execution_count": null,
   "metadata": {
    "collapsed": false,
    "slideshow": {
     "slide_type": "fragment"
    }
   },
   "outputs": [],
   "source": [
    "publicadas5['Factor de Impacto']=publicadas5['Factor de Impacto'].replace('Desconocido',-1)\n",
    "fi=publicadas5[['Factor de Impacto']].replace('null',0)\n",
    "fii=fi[fi['Factor de Impacto']>0].reset_index(drop=True)\n",
    "fii.astype('float')['Factor de Impacto'].hist(bins=20)\n",
    "plt.ylabel(u'Número de artículos',size=20)\n",
    "plt.xlabel(u'Factor de impacto',size=20)"
   ]
  },
  {
   "cell_type": "markdown",
   "metadata": {
    "slideshow": {
     "slide_type": "slide"
    }
   },
   "source": [
    "#### Últimos cinco años: por Grupos"
   ]
  },
  {
   "cell_type": "code",
   "execution_count": null,
   "metadata": {
    "collapsed": false,
    "slideshow": {
     "slide_type": "fragment"
    }
   },
   "outputs": [],
   "source": [
    "for group in ['GFIF','GES','GFAM','GMC','GOF','MS','FACOM']:\n",
    "    fi=publicadas5[publicadas5['Grupo'].str.contains(group)][['Factor de Impacto']].replace('null',0)\n",
    "    fii=fi[fi['Factor de Impacto']>0].reset_index(drop=True)\n",
    "    fii.astype('float')['Factor de Impacto'].hist(bins=20,label=group) \n",
    "    plt.legend(loc='best')\n",
    "    plt.ylabel(u'Número de artículos',size=20)\n",
    "    plt.xlabel(u'Factor de impacto',size=20)"
   ]
  },
  {
   "cell_type": "markdown",
   "metadata": {
    "slideshow": {
     "slide_type": "slide"
    }
   },
   "source": [
    "Detalles"
   ]
  },
  {
   "cell_type": "code",
   "execution_count": null,
   "metadata": {
    "collapsed": false,
    "slideshow": {
     "slide_type": "fragment"
    }
   },
   "outputs": [],
   "source": [
    "for group in ['GMC','GFAM']:\n",
    "    fi=publicadas5[publicadas5['Grupo'].str.contains(group)][['Factor de Impacto']].replace('null',0)\n",
    "    fii=fi[fi['Factor de Impacto']>0].reset_index(drop=True)\n",
    "    fii.astype('float')['Factor de Impacto'].hist(bins=20,label=group) \n",
    "    plt.legend(loc='best')\n",
    "    plt.ylabel(u'Número de artículos',size=20)\n",
    "    plt.xlabel(u'Factor de impacto',size=20)"
   ]
  },
  {
   "cell_type": "code",
   "execution_count": null,
   "metadata": {
    "collapsed": false,
    "slideshow": {
     "slide_type": "subslide"
    }
   },
   "outputs": [],
   "source": [
    "for group in ['GMC','GES']:\n",
    "    fi=publicadas5[publicadas5['Grupo'].str.contains(group)][['Factor de Impacto']].replace('null',0)\n",
    "    fii=fi[fi['Factor de Impacto']>0].reset_index(drop=True)\n",
    "    fii.astype('float')['Factor de Impacto'].hist(bins=20,label=group) \n",
    "    plt.legend(loc='best')\n",
    "    plt.ylabel(u'Número de artículos',size=20)\n",
    "    plt.xlabel(u'Factor de impacto',size=20)"
   ]
  },
  {
   "cell_type": "markdown",
   "metadata": {
    "slideshow": {
     "slide_type": "slide"
    }
   },
   "source": [
    "## Y patentes:\n",
    "2"
   ]
  },
  {
   "cell_type": "markdown",
   "metadata": {
    "slideshow": {
     "slide_type": "slide"
    }
   },
   "source": [
    "## Conlusiones generales"
   ]
  },
  {
   "cell_type": "markdown",
   "metadata": {
    "slideshow": {
     "slide_type": "fragment"
    }
   },
   "source": [
    "* Una estrategía mínima para mantener la media de publicaciones del los grupos, es garantizar el relevo de sus miembros _activos_."
   ]
  },
  {
   "cell_type": "markdown",
   "metadata": {
    "slideshow": {
     "slide_type": "fragment"
    }
   },
   "source": [
    "* El número promedio de artículos por año para un teórico _activo_ es de 4 artículos (en el caso conservador), y para un experimental _activo_ es de 1. La contratación de 4 teóricos podría implicar un incrementeo de 16 artículos por año pasando de 60 a 80 (ISI-Scopus). "
   ]
  },
  {
   "cell_type": "markdown",
   "metadata": {
    "slideshow": {
     "slide_type": "fragment"
    }
   },
   "source": [
    "* Los 3 artículos de CMS se notan en los gráficos de citaciones. CMS y ATLAS están produciendo 100 artículos por año con 10,000 citaciones.  La grandes colaboraciones impactan fuertemente en cantidad y calidad de artículos. "
   ]
  },
  {
   "cell_type": "markdown",
   "metadata": {
    "slideshow": {
     "slide_type": "fragment"
    }
   },
   "source": [
    "* En general: el incremento en el impacto de las publicaciones requiere cambios de paradigma."
   ]
  },
  {
   "cell_type": "markdown",
   "metadata": {
    "slideshow": {
     "slide_type": "fragment"
    }
   },
   "source": [
    "* Congresos bien establecidos pueden crear incentivos de publicación en estudiantes"
   ]
  },
  {
   "cell_type": "code",
   "execution_count": null,
   "metadata": {
    "collapsed": false,
    "slideshow": {
     "slide_type": "skip"
    }
   },
   "outputs": [],
   "source": [
    "#0120-2650 revista colombiana de Fisica\n",
    "#Physical Review D -> Jose David\n",
    "#10.1038/nature09084\n",
    "publicadas[publicadas['Grupo']=='Unknown'].sort('Year').shape"
   ]
  },
  {
   "cell_type": "code",
   "execution_count": null,
   "metadata": {
    "collapsed": false,
    "slideshow": {
     "slide_type": "skip"
    }
   },
   "outputs": [],
   "source": [
    "df[np.logical_and(df.DOI=='Not DOI',df.ISSN=='0000-0000')].shape"
   ]
  },
  {
   "cell_type": "code",
   "execution_count": null,
   "metadata": {
    "collapsed": true
   },
   "outputs": [],
   "source": []
  }
 ],
 "metadata": {
  "celltoolbar": "Slideshow",
  "kernelspec": {
   "display_name": "Python 2",
   "language": "python",
   "name": "python2"
  },
  "language_info": {
   "codemirror_mode": {
    "name": "ipython",
    "version": 2
   },
   "file_extension": ".py",
   "mimetype": "text/x-python",
   "name": "python",
   "nbconvert_exporter": "python",
   "pygments_lexer": "ipython2",
   "version": "2.7.9"
  }
 },
 "nbformat": 4,
 "nbformat_minor": 0
}
